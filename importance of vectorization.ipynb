{
 "cells": [
  {
   "cell_type": "markdown",
   "id": "231d2427",
   "metadata": {},
   "source": [
    "## Explicit for loops VS Vectorization\n",
    "#### this a little code snippet by going through which you can get the idea about importance of vectorization\n",
    "\n"
   ]
  },
  {
   "cell_type": "code",
   "execution_count": 18,
   "id": "59b34441",
   "metadata": {},
   "outputs": [],
   "source": [
    "import numpy as np"
   ]
  },
  {
   "cell_type": "code",
   "execution_count": 19,
   "id": "5a1e7242",
   "metadata": {},
   "outputs": [
    {
     "name": "stdout",
     "output_type": "stream",
     "text": [
      "250100.3460193156\n",
      "Vectorized version:1.3234615325927734ms\n",
      "250100.34601931527\n",
      "for loop :1000.9512901306152ms\n"
     ]
    }
   ],
   "source": [
    "import time\n",
    "a= np.random.rand(1000000)\n",
    "b = np.random.rand(1000000)\n",
    "tic = time.time()\n",
    "c = np.dot(a,b)\n",
    "toc= time.time()\n",
    "print(c)\n",
    "print(\"Vectorized version:\" +str(1000*(toc -tic)) + \"ms\")\n",
    "# non vectorized version\n",
    "c= 0\n",
    "tic = time.time()\n",
    "for i in range(1000000):\n",
    "    c += a[i]*b[i]\n",
    "toc = time.time()\n",
    "print(c)\n",
    "print(\"for loop :\" +str(1000*(toc-tic))+\"ms\")"
   ]
  },
  {
   "cell_type": "markdown",
   "id": "75fe365d",
   "metadata": {},
   "source": [
    "### above code clearly shows that vectorized product ,(np.dot()) in this case is about thousand times faster than normal for loop multiplication\n"
   ]
  },
  {
   "cell_type": "code",
   "execution_count": null,
   "id": "9436c3bf",
   "metadata": {},
   "outputs": [],
   "source": []
  }
 ],
 "metadata": {
  "kernelspec": {
   "display_name": "Python 3 (ipykernel)",
   "language": "python",
   "name": "python3"
  },
  "language_info": {
   "codemirror_mode": {
    "name": "ipython",
    "version": 3
   },
   "file_extension": ".py",
   "mimetype": "text/x-python",
   "name": "python",
   "nbconvert_exporter": "python",
   "pygments_lexer": "ipython3",
   "version": "3.10.9"
  }
 },
 "nbformat": 4,
 "nbformat_minor": 5
}
